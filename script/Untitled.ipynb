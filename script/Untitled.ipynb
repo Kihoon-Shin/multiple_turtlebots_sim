{
 "cells": [
  {
   "cell_type": "code",
   "execution_count": 12,
   "id": "e28d6603-749f-4833-90bd-0e3a7ea9050d",
   "metadata": {},
   "outputs": [
    {
     "data": {
      "text/plain": [
       "5.497787143782138"
      ]
     },
     "execution_count": 12,
     "metadata": {},
     "output_type": "execute_result"
    }
   ],
   "source": [
    "import numpy as np\n",
    "\n",
    "np.pi / 180 * 315"
   ]
  },
  {
   "cell_type": "code",
   "execution_count": 7,
   "id": "13309ccf-3def-47ea-836d-144213c141ee",
   "metadata": {},
   "outputs": [
    {
     "data": {
      "text/plain": [
       "0.0"
      ]
     },
     "execution_count": 7,
     "metadata": {},
     "output_type": "execute_result"
    }
   ],
   "source": [
    "import math\n",
    "math.atan2(0,1)"
   ]
  }
 ],
 "metadata": {
  "kernelspec": {
   "display_name": "Python 3 (ipykernel)",
   "language": "python",
   "name": "python3"
  },
  "language_info": {
   "codemirror_mode": {
    "name": "ipython",
    "version": 3
   },
   "file_extension": ".py",
   "mimetype": "text/x-python",
   "name": "python",
   "nbconvert_exporter": "python",
   "pygments_lexer": "ipython3",
   "version": "3.8.10"
  }
 },
 "nbformat": 4,
 "nbformat_minor": 5
}
